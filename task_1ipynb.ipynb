{
  "nbformat": 4,
  "nbformat_minor": 0,
  "metadata": {
    "colab": {
      "provenance": [],
      "authorship_tag": "ABX9TyPhUsBI6UoEgSD26oATAanI",
      "include_colab_link": true
    },
    "kernelspec": {
      "name": "python3",
      "display_name": "Python 3"
    },
    "language_info": {
      "name": "python"
    }
  },
  "cells": [
    {
      "cell_type": "markdown",
      "metadata": {
        "id": "view-in-github",
        "colab_type": "text"
      },
      "source": [
        "<a href=\"https://colab.research.google.com/github/Mansi2891/quiz-game-/blob/master/task_1ipynb.ipynb\" target=\"_parent\"><img src=\"https://colab.research.google.com/assets/colab-badge.svg\" alt=\"Open In Colab\"/></a>"
      ]
    },
    {
      "cell_type": "code",
      "execution_count": null,
      "metadata": {
        "id": "Ix8J6HdbR9md"
      },
      "outputs": [],
      "source": []
    },
    {
      "cell_type": "markdown",
      "source": [],
      "metadata": {
        "id": "6trydON4SAOk"
      }
    },
    {
      "cell_type": "markdown",
      "source": [
        "STEP-1: LOADING THE DATASET"
      ],
      "metadata": {
        "id": "zHU0APslSBBH"
      }
    },
    {
      "cell_type": "code",
      "source": [
        "import pandas as pd\n",
        "import seaborn as sns\n",
        "import matplotlib.pyplot as plt\n",
        "\n",
        "# loading the titanic dataset\n",
        "url = \"https://web.stanford.edu/class/archive/cs/cs109/cs109.1166/stuff/titanic.csv\"\n",
        "titanic_dataset = pd.read_csv(url)\n",
        "\n",
        "# Display the dataset\n",
        "print(titanic_dataset.head())"
      ],
      "metadata": {
        "id": "dMQSEMrVShws"
      },
      "execution_count": null,
      "outputs": []
    },
    {
      "cell_type": "markdown",
      "source": [],
      "metadata": {
        "id": "UMQVI0b7VvBo"
      }
    },
    {
      "cell_type": "markdown",
      "source": [
        "STEP-2: DATA CLEANING - Identify and handle the missing values in the dataset"
      ],
      "metadata": {
        "id": "UV3irf9SVwFm"
      }
    },
    {
      "cell_type": "code",
      "source": [
        "# print the columm names to verify the correct column names in your dataset\n",
        "# print(titanic_dataset_columns)\n",
        "\n",
        "# fill missing 'Age' values with median\n",
        "titanic_dataset['Age'].fillna(titanic_dataset['Age']. median(),inplace = True)\n",
        "\n",
        "#Drop rows with missing 'Embarked'values\n",
        "# titasic_dataset.dropna(subset=['Embarked], inplace = True)\n",
        "\n",
        "# verify the changes\n",
        "print(titanic_dataset.isnull().sum())\n"
      ],
      "metadata": {
        "id": "yg3HIn0eWGoE"
      },
      "execution_count": null,
      "outputs": []
    },
    {
      "cell_type": "markdown",
      "source": [
        "STEP-3: DATA TRANSFORMATION - convert categorical value into numerical value"
      ],
      "metadata": {
        "id": "ZC6zn2dMYb3G"
      }
    },
    {
      "cell_type": "code",
      "source": [
        "# convert 'Sex' to numerical values\n",
        "titanic_dataset ['Sex'] = titanic_dataset['Sex'].map({'male':0, 'female':1})\n",
        "\n",
        "#titanic_dataset = pd.get_dumies(titanic_data,columns = ['Embarked], drop_first = True)"
      ],
      "metadata": {
        "id": "EhudBkUgY0cG"
      },
      "execution_count": null,
      "outputs": []
    },
    {
      "cell_type": "markdown",
      "source": [
        "STEP -3: EXPLORATRY DATA ANALYSIS (EDA)\n"
      ],
      "metadata": {
        "id": "BRq11WThaGQM"
      }
    },
    {
      "cell_type": "code",
      "source": [
        "#1. Starastical summary\n",
        "print(titanic_dataset.describe())"
      ],
      "metadata": {
        "id": "fhyJWMMtabAx"
      },
      "execution_count": null,
      "outputs": []
    },
    {
      "cell_type": "code",
      "source": [
        " #visialization\n",
        " # Correlation Heatmap\n",
        " correlation_matrix = titanic_dataset.corr()\n",
        "plt.figure(figsize=(10,8))\n",
        "sns.heatmap(correlation_matrix, annot = True, cmap = 'coolwarm', fmt = \".2f\")\n",
        "\n",
        "plt.title(\"Correlation Heatmap\")\n",
        "plt.show()"
      ],
      "metadata": {
        "id": "yide-UXfa6ek"
      },
      "execution_count": null,
      "outputs": []
    },
    {
      "cell_type": "code",
      "source": [
        "#3.Surviaval rate analysis by gender\n",
        "sns.barplot(x='Sex', y='Survived', data =titanic_dataset, palette = 'husl');\n",
        "plt.xlabel('Sex (0 - Male, 1- Female)')\n",
        "plt.ylabel('Survival Rate')\n",
        "plt.title('Survival Rate by Gender')\n",
        "plt.show()"
      ],
      "metadata": {
        "id": "xWTeNkn0d3Ma"
      },
      "execution_count": null,
      "outputs": []
    },
    {
      "cell_type": "markdown",
      "source": [],
      "metadata": {
        "id": "2l4x8rxKd0lJ"
      }
    },
    {
      "cell_type": "code",
      "source": [
        "#4 . Survival rate by class\n",
        "sns.barplot(x='Pclass', y='Survived', data=titanic_dataset, palette='pastel')\n",
        "plt.xlabel('Class')\n",
        "plt.ylabel('Survival Rate')\n",
        "plt.title('Survival Rate by Class')\n",
        "plt.show()"
      ],
      "metadata": {
        "id": "369SqcMsd0Bd"
      },
      "execution_count": null,
      "outputs": []
    },
    {
      "cell_type": "code",
      "source": [
        "#5 Histogram for age distribution\n",
        "plt.subplot(1,2,1)\n",
        "sns.histplot(titanic_dataset['Age'].dropna(), kde=True, color='skyblue')\n",
        "plt.xlabel('Age')\n",
        "plt.title('Age distribution')\n",
        "plt.show()"
      ],
      "metadata": {
        "id": "oHTXK-dQgx2c"
      },
      "execution_count": null,
      "outputs": []
    },
    {
      "cell_type": "code",
      "source": [
        "#6 Bivariate Analysis\n",
        "plt.figure(figsize=(10,5))\n",
        "plt.show()"
      ],
      "metadata": {
        "colab": {
          "base_uri": "https://localhost:8080/",
          "height": 34
        },
        "id": "wS8LL5awh4TZ",
        "outputId": "273e265e-da04-4af7-e38a-202fa4c01134"
      },
      "execution_count": null,
      "outputs": [
        {
          "output_type": "display_data",
          "data": {
            "text/plain": [
              "<Figure size 1000x500 with 0 Axes>"
            ]
          },
          "metadata": {}
        }
      ]
    },
    {
      "cell_type": "code",
      "source": [
        "#7 Box plaot for ex survived\n",
        "sns.boxplot(x='Survived', y='Age', data = titanic_dataset , palette='Set2')\n",
        "plt.xlabel('Survived')\n",
        "plt.ylabel('Age')\n",
        "plt.title('Age distribution by Survival Status')\n",
        "plt.show()"
      ],
      "metadata": {
        "id": "-46WOUmsiLvk"
      },
      "execution_count": null,
      "outputs": []
    },
    {
      "cell_type": "code",
      "source": [
        "#8 count plot for Passenger class distribution\n",
        "plt.subplot(1,2,2)\n",
        "sns.countplot(x='Pclass', data=titanic_dataset,palette='pastel')\n",
        "plt.xlabel('Class')\n",
        "plt.title('Passenger Class Distribution')\n",
        "\n",
        "plt.tight_layout()\n",
        "plt.show()"
      ],
      "metadata": {
        "id": "zsnnx-ksjkmg"
      },
      "execution_count": null,
      "outputs": []
    },
    {
      "cell_type": "code",
      "source": [],
      "metadata": {
        "id": "8zDx8JFofhQN"
      },
      "execution_count": null,
      "outputs": []
    }
  ]
}